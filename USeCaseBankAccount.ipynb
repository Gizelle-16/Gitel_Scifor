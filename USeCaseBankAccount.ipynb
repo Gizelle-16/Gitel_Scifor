{
  "nbformat": 4,
  "nbformat_minor": 0,
  "metadata": {
    "colab": {
      "provenance": [],
      "authorship_tag": "ABX9TyOOosyBUqK9NWgl2Bs1oYp0",
      "include_colab_link": true
    },
    "kernelspec": {
      "name": "python3",
      "display_name": "Python 3"
    },
    "language_info": {
      "name": "python"
    }
  },
  "cells": [
    {
      "cell_type": "markdown",
      "metadata": {
        "id": "view-in-github",
        "colab_type": "text"
      },
      "source": [
        "<a href=\"https://colab.research.google.com/github/Gizelle-16/Gitel_Scifor/blob/main/USeCaseBankAccount.ipynb\" target=\"_parent\"><img src=\"https://colab.research.google.com/assets/colab-badge.svg\" alt=\"Open In Colab\"/></a>"
      ]
    },
    {
      "cell_type": "markdown",
      "source": [
        "class bank. withdraw, deposit and check balance."
      ],
      "metadata": {
        "id": "E922hTGeXBA9"
      }
    },
    {
      "cell_type": "code",
      "source": [
        "class Bank:\n",
        "    def __init__(self, balance, pin):\n",
        "        self.pin = pin\n",
        "        self.balance = balance\n",
        "\n",
        "    def withdraw(self, amt):\n",
        "        atm_pin = int(input('Enter your ATM pin: '))\n",
        "        if atm_pin == self.pin:\n",
        "            if amt < self.balance:\n",
        "                self.balance -= amt\n",
        "                print(f'Withdrawn Rs. {amt}, current balance: {self.balance}')\n",
        "            else:\n",
        "                print('Invalid amount')\n",
        "        else:\n",
        "            print('Incorrect pin')\n",
        "\n",
        "    def deposit(self, amt):\n",
        "        atm_pin = int(input('Enter your ATM pin: '))\n",
        "        if atm_pin == self.pin:\n",
        "            self.balance += amt\n",
        "            print(f'Deposited Rs. {amt}, current balance: {self.balance}')\n",
        "        else:\n",
        "            print('Incorrect pin')\n",
        "\n",
        "    def check_balance(self):\n",
        "        atm_pin = int(input('Enter your ATM pin: '))\n",
        "        if atm_pin == self.pin:\n",
        "            print(f'Current balance: {self.balance}')\n",
        "        else:\n",
        "            print('Incorrect pin')\n",
        "\n",
        "\n",
        "# Example Usage\n",
        "bank_account = Bank(balance=1000, pin=1234)\n",
        "bank_account.withdraw(500)\n",
        "bank_account.deposit(200)\n",
        "bank_account.check_balance()\n"
      ],
      "metadata": {
        "colab": {
          "base_uri": "https://localhost:8080/"
        },
        "id": "2xDOIfmhbekF",
        "outputId": "ca0e62fd-7ab3-4dbf-b5ba-e4dfd647f5cc"
      },
      "execution_count": null,
      "outputs": [
        {
          "output_type": "stream",
          "name": "stdout",
          "text": [
            "Enter your ATM pin: 1234\n",
            "Withdrawn Rs. 500, current balance: 500\n",
            "Enter your ATM pin: 1234\n",
            "Deposited Rs. 200, current balance: 700\n",
            "Enter your ATM pin: 2002\n",
            "Incorrect pin\n"
          ]
        }
      ]
    }
  ]
}