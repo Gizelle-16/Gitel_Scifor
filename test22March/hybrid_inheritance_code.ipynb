{
  "nbformat": 4,
  "nbformat_minor": 0,
  "metadata": {
    "colab": {
      "provenance": [],
      "authorship_tag": "ABX9TyOqGJYHjxSeJ+R24Z8HidOu",
      "include_colab_link": true
    },
    "kernelspec": {
      "name": "python3",
      "display_name": "Python 3"
    },
    "language_info": {
      "name": "python"
    }
  },
  "cells": [
    {
      "cell_type": "markdown",
      "metadata": {
        "id": "view-in-github",
        "colab_type": "text"
      },
      "source": [
        "<a href=\"https://colab.research.google.com/github/Gizelle-16/Gitel_Scifor/blob/main/test22March/hybrid_inheritance_code.ipynb\" target=\"_parent\"><img src=\"https://colab.research.google.com/assets/colab-badge.svg\" alt=\"Open In Colab\"/></a>"
      ]
    },
    {
      "cell_type": "markdown",
      "source": [
        "hybrid inheritance refers to a combination of multiple types of inheritance, including both single and multiple inheritance. It involves inheriting attributes and methods from multiple parent classes to create a new child class. IT is a mixture of single, multiple and multi level inhert=itance\n"
      ],
      "metadata": {
        "id": "dGFIfQ2x0n0H"
      }
    },
    {
      "cell_type": "code",
      "execution_count": null,
      "metadata": {
        "colab": {
          "base_uri": "https://localhost:8080/",
          "height": 35
        },
        "id": "Gq8hyJszoGMd",
        "outputId": "e774c12a-8381-4910-9e38-42bfa06d4c30"
      },
      "outputs": [
        {
          "output_type": "execute_result",
          "data": {
            "text/plain": [
              "'labrador loves to play'"
            ],
            "application/vnd.google.colaboratory.intrinsic+json": {
              "type": "string"
            }
          },
          "metadata": {},
          "execution_count": 6
        }
      ],
      "source": [
        "class Animal:\n",
        "  def speak(self):\n",
        "    return \"Animal speaks animal language\"\n",
        "\n",
        "#inherited class\n",
        "class Dog(Animal):\n",
        "  def bark(self):\n",
        "    return \"barks\"\n",
        "\n",
        "#another class that inherits from both:\n",
        "class Labrador(Dog, Animal):\n",
        "  def play(self):\n",
        "    return \"labrador loves to play\"\n",
        "\n",
        "Animal = Animal()\n",
        "dog = Dog()\n",
        "lab = Labrador()\n",
        "lab.play()"
      ]
    },
    {
      "cell_type": "markdown",
      "source": [],
      "metadata": {
        "id": "NomgNGXp0P0-"
      }
    },
    {
      "cell_type": "code",
      "source": [],
      "metadata": {
        "id": "tHH__mW70lhh"
      },
      "execution_count": null,
      "outputs": []
    },
    {
      "cell_type": "markdown",
      "source": [],
      "metadata": {
        "id": "O45O17bX0nAw"
      }
    }
  ]
}