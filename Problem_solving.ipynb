{
  "nbformat": 4,
  "nbformat_minor": 0,
  "metadata": {
    "colab": {
      "provenance": [],
      "authorship_tag": "ABX9TyNZFuP+RdJIuJC9HeiPohNh",
      "include_colab_link": true
    },
    "kernelspec": {
      "name": "python3",
      "display_name": "Python 3"
    },
    "language_info": {
      "name": "python"
    }
  },
  "cells": [
    {
      "cell_type": "markdown",
      "metadata": {
        "id": "view-in-github",
        "colab_type": "text"
      },
      "source": [
        "<a href=\"https://colab.research.google.com/github/Gizelle-16/Gitel_Scifor/blob/main/Problem_solving.ipynb\" target=\"_parent\"><img src=\"https://colab.research.google.com/assets/colab-badge.svg\" alt=\"Open In Colab\"/></a>"
      ]
    },
    {
      "cell_type": "code",
      "source": [
        "# 1.\n",
        "#difference between list and tuple:\n",
        "\n",
        "# -lists are mutable( elements can be added, removed and changed) w\n",
        "# where as tuples are immutable (new elements cannot be added, changes and deletions not possible)\n",
        "# - lists are initialised as []\n",
        "# where as tuples are initialized as ()"
      ],
      "metadata": {
        "id": "EXK0LeR1w3VP"
      },
      "execution_count": null,
      "outputs": []
    },
    {
      "cell_type": "code",
      "source": [
        "# 2.\n",
        "PEP-8 is a document that provides style guide, on how to write python code. It\n",
        "# gives the best practices to write our code. It improves readability.\n",
        "# Some examples of the pep8 guidelines are:\n",
        "# -function names should be in lower case,  words should be sperated by '_'\n",
        "# ex: def my_function\n",
        "\n",
        "# -constants should be in uppercase, seperated by '_'\n",
        "# ex: MY_LONG_INTEGER"
      ],
      "metadata": {
        "id": "vW1WxvqQx_sl"
      },
      "execution_count": null,
      "outputs": []
    },
    {
      "cell_type": "code",
      "source": [
        "# #3.\n",
        "# The __init__ method is used to initialize the objects of class. It takes the object\n",
        "# as its first argument (using self) and takes additional specified parameters.\n",
        "# Ex: class car:\n",
        "#       def __init__(self, model):\n",
        "#         self.model = model\n",
        "\n",
        "#       my_car  = Car(model='ecosport')\n",
        "\n",
        "#     here, when the onject my_car is created, it uses the init function to initialize\n",
        "#     the parameters"
      ],
      "metadata": {
        "id": "0SY98FTpzGxg"
      },
      "execution_count": null,
      "outputs": []
    },
    {
      "cell_type": "code",
      "source": [
        "# 4.\n",
        "# inheritance is used to use the properties of a superclass in subclass:\n",
        "# single inheritance example:\n",
        "\n",
        "class Animal:\n",
        "    def __init__(self, name):\n",
        "        self.name = name\n",
        "\n",
        "    def speak(self):\n",
        "        pass\n",
        "\n",
        "class Dog(Animal):\n",
        "    def speak(self):\n",
        "        return f\"{self.name} says Woof!\"\n",
        "\n",
        "class Cat(Animal):\n",
        "    def speak(self):\n",
        "        return f\"{self.name} says Meow!\"\n",
        "\n",
        "\n",
        "\n",
        "animal = Animal(\"Generic Animal\")\n",
        "dog = Dog(\"Buddy\")\n",
        "cat = Cat(\"Whiskers\")\n",
        "\n",
        "\n",
        "print(dog.speak())\n",
        "print(cat.speak())"
      ],
      "metadata": {
        "colab": {
          "base_uri": "https://localhost:8080/"
        },
        "id": "mex63IKZ0NsP",
        "outputId": "ef647232-1615-4a1f-830e-5f53be31c1c0"
      },
      "execution_count": 1,
      "outputs": [
        {
          "output_type": "stream",
          "name": "stdout",
          "text": [
            "Buddy says Woof!\n",
            "Whiskers says Meow!\n"
          ]
        }
      ]
    },
    {
      "cell_type": "code",
      "source": [
        "# 5. static vs class method:\n",
        "\n",
        "# Static methods are defined using the @staticmethod decorator in python\n",
        "# they can be called without creating an object, directly from the class mehtod itself.\n",
        "\n",
        "# - classmethods are defined using the @classmethod decorator in python\n",
        "# they take the class itself as its first parameter.\n",
        "\n",
        "# - classmethod help us to access class level data, whereas staticmethods cannot\n",
        "# access class level data\n",
        "\n",
        "# exmaple:\n",
        "class MathOperations:\n",
        "    pi = 3.14159\n",
        "\n",
        "    def __init__(self, radius):\n",
        "        self.radius = radius\n",
        "\n",
        "    # Class Method\n",
        "    @classmethod\n",
        "    def get_pi(cls):\n",
        "        return cls.pi\n",
        "\n",
        "    # Static Method\n",
        "    @staticmethod\n",
        "    def calculate_area(radius):\n",
        "        return MathOperations.pi * radius * radius\n",
        "\n",
        "\n",
        "# Using the class method\n",
        "print(f\"Value of pi: {MathOperations.get_pi()}\")\n",
        "\n",
        "# Using the static method\n",
        "radius_value = 5\n",
        "area = MathOperations.calculate_area(radius_value)\n",
        "print(f\"Area of a circle with radius {radius_value}: {area}\")\n"
      ],
      "metadata": {
        "colab": {
          "base_uri": "https://localhost:8080/"
        },
        "id": "yCUOxqp70vL0",
        "outputId": "2881eac7-74ae-4516-8d4a-f6357f1451e2"
      },
      "execution_count": 3,
      "outputs": [
        {
          "output_type": "stream",
          "name": "stdout",
          "text": [
            "Value of pi: 3.14159\n",
            "Area of a circle with radius 5: 78.53975\n"
          ]
        }
      ]
    },
    {
      "cell_type": "code",
      "source": [
        "# 6.\n",
        "# polymorphism means one thing, many forms. Polymorphism in python\n",
        "# example:\n",
        "\n",
        "class addition:\n",
        "  def __init__(self,a,b):\n",
        "    self.a=a\n",
        "    self.b=b\n",
        "  def add(self):\n",
        "    sum=self.a + self.b\n",
        "    return sum\n",
        "obj=addition(a=3,b=4)\n",
        "obj2=addition (a='apple', b='banana')\n",
        "\n",
        "print(obj.add())\n",
        "print(obj2.add())\n",
        "\n"
      ],
      "metadata": {
        "colab": {
          "base_uri": "https://localhost:8080/"
        },
        "id": "XB-3W_y612lh",
        "outputId": "44309a62-45e4-4491-ad77-27184007b0fd"
      },
      "execution_count": 9,
      "outputs": [
        {
          "output_type": "stream",
          "name": "stdout",
          "text": [
            "7\n",
            "applebanana\n"
          ]
        }
      ]
    },
    {
      "cell_type": "code",
      "source": [
        "# #7\n",
        "# exception handling is done in python  using the try, except, else, and finally blocks.\n",
        "# example:\n",
        "def divide_numbers(a, b):\n",
        "    try:\n",
        "        result = a / b\n",
        "    except ZeroDivisionError:\n",
        "        print(\"Error: Division by zero is not allowed.\")\n",
        "    except TypeError:\n",
        "        print(\"Error: Invalid data types for division.\")\n",
        "    else:\n",
        "        print(f\"The result of {a} divided by {b} is: {result}\")\n",
        "    finally:\n",
        "        print(\"This block always executes, whether an exception occurred or not.\")\n",
        "\n",
        "divide_numbers(10, 2)\n",
        "divide_numbers(10, 0)\n",
        "divide_numbers(\"abc\", 2)\n",
        "\n",
        "#here, we are handling exceptions like divion by zero and non-numbers, which otherwise\n",
        "# would have led to errors during runtime"
      ],
      "metadata": {
        "colab": {
          "base_uri": "https://localhost:8080/"
        },
        "id": "QZBJDUmc2IAI",
        "outputId": "d74e82d1-846f-44b5-8c9e-ac913d57a93a"
      },
      "execution_count": 11,
      "outputs": [
        {
          "output_type": "stream",
          "name": "stdout",
          "text": [
            "The result of 10 divided by 2 is: 5.0\n",
            "This block always executes, whether an exception occurred or not.\n",
            "Error: Division by zero is not allowed.\n",
            "This block always executes, whether an exception occurred or not.\n",
            "Error: Invalid data types for division.\n",
            "This block always executes, whether an exception occurred or not.\n"
          ]
        }
      ]
    },
    {
      "cell_type": "code",
      "source": [
        "# #8.\n",
        "# GIL LOCK in python is used in the multi threaded applications, it is used to\n",
        "# prevent deadlocks. GIL LOCKING is a mechanism by which in multi threaded programs,\n",
        "# only one thread is in execution at a time, i.e it makes a multi-threaded program\n",
        "# work effectively as a single-threaded program."
      ],
      "metadata": {
        "id": "7Pl257DY44rH"
      },
      "execution_count": null,
      "outputs": []
    },
    {
      "cell_type": "code",
      "source": [
        "# #9.\n",
        "#  Decorator in python:\n",
        "#  -It is a special type of function used to modify or extend the behavior of other\n",
        "#  functions or class.\n",
        "# - It allows to wrap another function, adding some functionality before or after\n",
        "#  the execution of the original function.\n",
        "#  -Decorators are denoted by '@decorator'\n",
        "# -In Decorators, functions are taken as the argument into another function and\n",
        "# then called inside the wrapper function.\n",
        "#example:\n",
        "# defining a decorator\n",
        "def hello_decorator(func):\n",
        "\n",
        "\n",
        "\n",
        "\tdef inner1():\n",
        "\t\tprint(\"Before function execution\")\n",
        "\n",
        "\t\tfunc()\n",
        "\n",
        "\t\tprint(\"After function execution\")\n",
        "\n",
        "\treturn inner1\n",
        "\n",
        "def function_to_be_used():\n",
        "\tprint(\"Inside the function !!\")\n",
        "\n",
        "function_to_be_used = hello_decorator(function_to_be_used)\n",
        "\n",
        "function_to_be_used()\n",
        "#here, function_to_be_used is passed inside the decorator to control its behaviour\n",
        "\n",
        "\n"
      ],
      "metadata": {
        "colab": {
          "base_uri": "https://localhost:8080/"
        },
        "id": "xMkanxjl6UXN",
        "outputId": "18bda59f-aff3-485a-ea7a-202c6f1abd55"
      },
      "execution_count": 12,
      "outputs": [
        {
          "output_type": "stream",
          "name": "stdout",
          "text": [
            "Before function execution\n",
            "Inside the function !!\n",
            "After function execution\n"
          ]
        }
      ]
    },
    {
      "cell_type": "code",
      "source": [
        "#10\n",
        "# eccapsulation in python:\n",
        "\n",
        "class BankAccount:\n",
        "    def __init__(self, account_number, account_holder, initial_balance=0.0):\n",
        "        self._account_number = account_number\n",
        "        self._account_holder = account_holder\n",
        "        self._balance = initial_balance\n",
        "\n",
        "    def deposit(self, amount):\n",
        "        if amount > 0:\n",
        "            self._balance += amount\n",
        "            print(f\"Deposit of ${amount:.2f} successful. Balance: ${self._balance:.2f}\")\n",
        "        else:\n",
        "            print(\"Invalid deposit amount. Please enter a positive value.\")\n",
        "\n",
        "    def withdraw(self, amount):\n",
        "        if amount > 0 and amount <= self._balance:\n",
        "            self._balance -= amount\n",
        "            print(f\"Withdrawal of ${amount:.2f} successful. Balance: ${self._balance:.2f}\")\n",
        "        else:\n",
        "            print(\"Invalid withdrawal amount or insufficient funds.\")\n",
        "\n",
        "    def get_balance(self):\n",
        "        return self._balance\n",
        "\n",
        "    def display_account_info(self):\n",
        "        print(f\"Account Number: {self._account_number}\")\n",
        "        print(f\"Account Holder: {self._account_holder}\")\n",
        "        print(f\"Current Balance: ${self._balance:.2f}\")\n",
        "\n",
        "\n",
        "\n",
        "account1 = BankAccount(account_number=\"1256\", account_holder=\"Gitel\", initial_balance=1000.0)\n",
        "\n",
        "print(\"Account Information:\")\n",
        "account1.display_account_info()\n",
        "\n",
        "account1.deposit(500.0)\n",
        "account1.withdraw(200.0)\n",
        "\n",
        "print(\"\\nUpdated Account Information:\")\n",
        "account1.display_account_info()\n",
        "\n"
      ],
      "metadata": {
        "colab": {
          "base_uri": "https://localhost:8080/"
        },
        "id": "jTYbzNqx9Orn",
        "outputId": "954339b4-c1f9-4def-e5c2-3faaf2006a98"
      },
      "execution_count": 19,
      "outputs": [
        {
          "output_type": "stream",
          "name": "stdout",
          "text": [
            "Account Information:\n",
            "Account Number: 1256\n",
            "Account Holder: Gitel\n",
            "Current Balance: $1000.00\n",
            "Deposit of $500.00 successful. Balance: $1500.00\n",
            "Withdrawal of $200.00 successful. Balance: $1300.00\n",
            "\n",
            "Updated Account Information:\n",
            "Account Number: 1256\n",
            "Account Holder: Gitel\n",
            "Current Balance: $1300.00\n"
          ]
        }
      ]
    },
    {
      "cell_type": "code",
      "source": [
        "# #11\n",
        "# Duck typing in python:\n",
        "# it is a type of polymorphism in python, where the type or class of an object is\n",
        "# determined by its behaviour.\n",
        "# Therefore, what really matters is if the object has particular attributes at run time\n",
        "\n",
        "# Example:\n",
        "\n",
        "class Duck:\n",
        "    def quack(self):\n",
        "        return \"Quack, quack!\"\n",
        "\n",
        "class Person:\n",
        "    def quack(self):\n",
        "        return \"I don't quack; I talk!\"\n",
        "\n",
        "def make_it_quack(entity):\n",
        "    return entity.quack()\n",
        "\n",
        "# Using the function with different objects\n",
        "duck = Duck()\n",
        "person = Person()\n",
        "\n",
        "print(make_it_quack(duck))\n",
        "print(make_it_quack(person))"
      ],
      "metadata": {
        "colab": {
          "base_uri": "https://localhost:8080/"
        },
        "id": "dXXLSxAW9pYS",
        "outputId": "48a7f372-1073-4b12-fc38-d5a09f19c18a"
      },
      "execution_count": 20,
      "outputs": [
        {
          "output_type": "stream",
          "name": "stdout",
          "text": [
            "Quack, quack!\n",
            "I don't quack; I talk!\n"
          ]
        }
      ]
    },
    {
      "cell_type": "code",
      "source": [
        "#12\n",
        "#append is used to add single element to the end of list\n",
        "my_list = [1, 2, 3]\n",
        "my_list.append([5,6])\n",
        "print('append:', my_list)\n",
        "\n",
        "#extend is used to add an iterable at the end of a list\n",
        "my_list = [1, 2, 3]\n",
        "\n",
        "\n",
        "my_list.extend([5,6])\n",
        "print('extend:',my_list)\n"
      ],
      "metadata": {
        "colab": {
          "base_uri": "https://localhost:8080/"
        },
        "id": "SbryErITDqQZ",
        "outputId": "ebdf259a-627f-42f1-d5c5-a688856e9e94"
      },
      "execution_count": 25,
      "outputs": [
        {
          "output_type": "stream",
          "name": "stdout",
          "text": [
            "append: [1, 2, 3, [5, 6]]\n",
            "extend: [1, 2, 3, 5, 6]\n"
          ]
        }
      ]
    },
    {
      "cell_type": "code",
      "source": [
        "# #13\n",
        "# the with statement is used to ensure that a block of code is executed with a\n",
        "# particular context or resource management.\n",
        "# one example of usage is in file handling, where 'with' can be used with 'open'\n",
        "\n",
        "\n",
        "with open('example.txt', 'r') as file:\n",
        "    content = file.read()\n",
        "    print(content)\n"
      ],
      "metadata": {
        "id": "pkdLPygEFQZV"
      },
      "execution_count": null,
      "outputs": []
    },
    {
      "cell_type": "code",
      "source": [
        "# #14\n",
        "# self in classes is used to refer to the current method. It represents the instance\n",
        "# of the class and is a way for methods to refer to the instance variables of that\n",
        "#  object. IT is the first parameter of any method\n"
      ],
      "metadata": {
        "id": "Re4IMUU3IQYn"
      },
      "execution_count": null,
      "outputs": []
    },
    {
      "cell_type": "code",
      "source": [
        "# #15.\n",
        "#  the slots attibute allows us to explicitly declare the instance attributes a\n",
        "#  class can have.\n",
        "#  it serves as an alternative to Python's default method of data access.\n",
        "\n"
      ],
      "metadata": {
        "id": "k4-j1itcInl3"
      },
      "execution_count": null,
      "outputs": []
    },
    {
      "cell_type": "code",
      "source": [],
      "metadata": {
        "id": "s6cvud8kK2vG"
      },
      "execution_count": null,
      "outputs": []
    },
    {
      "cell_type": "code",
      "source": [
        "# #16\n",
        "# instance variable vs class variable:\n",
        "# Instance variables are variables that belong instance of a class.\n",
        "# Each instance of the class has its own copy of instance variables.\n",
        "# They are declared within methods, with self to refer to the instance.\n",
        "# their scope limited to the instance of the class.\n",
        "# They are accessible using the syntax self.variable_name.\n",
        "\n",
        "# Class variable\n",
        "# Class variables are shared among all instances of a class.\n",
        "# They are defined outside of any method in the class and are shared by all instances.\n",
        "# they are typically prefixed with the class name.\n",
        "# They are accessible using the syntax ClassName.variable_name.\n",
        "\n",
        "# Example:\n",
        "\n",
        "class MyClass:\n",
        "    common_variable = 10\n",
        "\n",
        "    def __init__(self, name, age):\n",
        "        self.name = name\n",
        "        self.age = age\n",
        "\n",
        "\n",
        "obj1 = MyClass(name='Alice', age=25)\n",
        "obj2 = MyClass(name='Bob', age=30)\n",
        "\n",
        "print(obj1.common_variable)\n",
        "print(obj2.common_variable)\n",
        "\n",
        "# here, common_variable is a class variable and name and age are instance variables\n"
      ],
      "metadata": {
        "colab": {
          "base_uri": "https://localhost:8080/"
        },
        "id": "25uGMTlzK0jS",
        "outputId": "359dd088-8dac-4123-c073-76bd529cd8ae"
      },
      "execution_count": 27,
      "outputs": [
        {
          "output_type": "stream",
          "name": "stdout",
          "text": [
            "10\n",
            "10\n"
          ]
        }
      ]
    },
    {
      "cell_type": "code",
      "source": [
        "##17\n",
        "# encapsulation: wrapping up of data members and methods in a class:\n",
        "\n",
        "class BankAccount:\n",
        "    def __init__(self, account_number, account_holder, initial_balance=0.0):\n",
        "        self._account_number = account_number\n",
        "        self._account_holder = account_holder\n",
        "        self._balance = initial_balance\n",
        "\n",
        "    def deposit(self, amount):\n",
        "        if amount > 0:\n",
        "            self._balance += amount\n",
        "            print(f\"Deposit of ${amount:.2f} successful. Balance: ${self._balance:.2f}\")\n",
        "        else:\n",
        "            print(\"Invalid deposit amount. Please enter a positive value.\")\n",
        "\n",
        "    def withdraw(self, amount):\n",
        "        if amount > 0 and amount <= self._balance:\n",
        "            self._balance -= amount\n",
        "            print(f\"Withdrawal of ${amount:.2f} successful. Balance: ${self._balance:.2f}\")\n",
        "        else:\n",
        "            print(\"Invalid withdrawal amount or insufficient funds.\")\n",
        "\n",
        "    def get_balance(self):\n",
        "        return self._balance\n",
        "\n",
        "    def display_account_info(self):\n",
        "        print(f\"Account Number: {self._account_number}\")\n",
        "        print(f\"Account Holder: {self._account_holder}\")\n",
        "        print(f\"Current Balance: ${self._balance:.2f}\")\n",
        "\n",
        "\n",
        "\n",
        "account1 = BankAccount(account_number=\"1256\", account_holder=\"Gitel\", initial_balance=1000.0)\n",
        "print('encapsulation \\n')\n",
        "print(\"Account Information:\")\n",
        "account1.display_account_info()\n",
        "\n",
        "account1.deposit(500.0)\n",
        "account1.withdraw(200.0)\n",
        "\n",
        "print(\"\\nUpdated Account Information:\")\n",
        "account1.display_account_info()\n",
        "print('\\n')\n",
        "\n",
        "\n",
        "#abstraction: to implement, we import the abstractmethod and abc class, create an\n",
        "# abstract class and then derive it:\n",
        "from abc import ABC, abstractmethod\n",
        "\n",
        "class Car(ABC):\n",
        "  def __init__(self, brand, model, year):\n",
        "\t  self.brand = brand\n",
        "\t  self.model = model\n",
        "\t  self.year = year\n",
        "\n",
        "  @abstractmethod\n",
        "  def printDetails(self):\n",
        "\t  pass\n",
        "\n",
        "  def accelerate(self):\n",
        "\t  print(\"speed up ...\")\n",
        "\n",
        "  def break_applied(self):\n",
        "  \tprint(\"Car stop\")\n",
        "\n",
        "\n",
        "class Hatchback(Car):\n",
        "    def printDetails(self):\n",
        "      print(\"Brand:\", self.brand);\n",
        "      print(\"Model:\", self.model);\n",
        "      print(\"Year:\", self.year);\n",
        "\n",
        "    def Sunroof(self):\n",
        "\t    print(\"Not having this feature\")\n",
        "\n",
        "\n",
        "class Suv(Car):\n",
        "  def printDetails(self):\n",
        "    print(\"Brand:\", self.brand);\n",
        "    print(\"Model:\", self.model);\n",
        "    print(\"Year:\", self.year);\n",
        "\n",
        "  def Sunroof(self):\n",
        "    print(\"Available\")\n",
        "\n",
        "\n",
        "car1 = Hatchback(\"Maruti\", \"Alto\", \"2022\");\n",
        "print('abstraction \\n')\n",
        "car1.printDetails()\n",
        "car1.accelerate()\n",
        "print('\\n')\n",
        "\n",
        "\n",
        "##polymorphism in python: We can have one method that takes different data types\n",
        "\n",
        "class Animal:\n",
        "    def speak(self):\n",
        "        return \"Animal speaks\"\n",
        "\n",
        "class Dog(Animal):\n",
        "    def speak(self):\n",
        "        return \"Dog barks\"\n",
        "\n",
        "class Cat(Animal):\n",
        "    def speak(self):\n",
        "        return \"Cat meows\"\n",
        "\n",
        "def animal_speak(animal):\n",
        "    return animal.speak()\n",
        "\n",
        "\n",
        "animal = Animal()\n",
        "dog = Dog()\n",
        "cat = Cat()\n",
        "print('polymorphism \\n' )\n",
        "print( animal_speak(animal))\n",
        "print(animal_speak(dog))\n",
        "print(animal_speak(cat))\n",
        "\n",
        "\n",
        "\n"
      ],
      "metadata": {
        "colab": {
          "base_uri": "https://localhost:8080/"
        },
        "id": "twUMuVUyMCr9",
        "outputId": "e3b4d9f8-22fd-4bfd-dcbe-9fb37da8832d"
      },
      "execution_count": 34,
      "outputs": [
        {
          "output_type": "stream",
          "name": "stdout",
          "text": [
            "encapsulation \n",
            "\n",
            "Account Information:\n",
            "Account Number: 1256\n",
            "Account Holder: Gitel\n",
            "Current Balance: $1000.00\n",
            "Deposit of $500.00 successful. Balance: $1500.00\n",
            "Withdrawal of $200.00 successful. Balance: $1300.00\n",
            "\n",
            "Updated Account Information:\n",
            "Account Number: 1256\n",
            "Account Holder: Gitel\n",
            "Current Balance: $1300.00\n",
            "\n",
            "\n",
            "abstraction \n",
            "\n",
            "Brand: Maruti\n",
            "Model: Alto\n",
            "Year: 2022\n",
            "speed up ...\n",
            "\n",
            "\n",
            "polymorphism \n",
            "\n",
            "Animal speaks\n",
            "Dog barks\n",
            "Cat meows\n"
          ]
        }
      ]
    },
    {
      "cell_type": "code",
      "source": [
        "#19\n",
        "\n",
        "# Single Inheritance Example\n",
        "class Animal:\n",
        "    def speak(self):\n",
        "        return \"Animal speaks\"\n",
        "\n",
        "class Dog(Animal):\n",
        "    def bark(self):\n",
        "        return \"Dog barks\"\n",
        "\n",
        "print(' Using single inheritance \\n')\n",
        "dog_instance = Dog()\n",
        "print(dog_instance.speak())\n",
        "print(dog_instance.bark())\n",
        "print('\\n')\n",
        "\n",
        "\n",
        "# Multiple Inheritance Example\n",
        "class Bird:\n",
        "    def chirp(self):\n",
        "        return \"Bird chirps\"\n",
        "\n",
        "class Dog:\n",
        "    def bark(self):\n",
        "        return \"Dog barks\"\n",
        "\n",
        "class DogBird(Bird, Dog):\n",
        "    def action(self):\n",
        "        return \"DogBird can perform multiple actions\"\n",
        "\n",
        "print('multiple inheritance \\n')\n",
        "dog_bird_instance = DogBird()\n",
        "print(dog_bird_instance.chirp())\n",
        "print(dog_bird_instance.bark())\n",
        "print(dog_bird_instance.action())\n",
        "print('\\n')\n",
        "\n",
        "\n",
        "# Multilevel Inheritance Example\n",
        "class Animal:\n",
        "    def speak(self):\n",
        "        return \"Animal speaks\"\n",
        "\n",
        "class Dog(Animal):\n",
        "    def bark(self):\n",
        "        return \"Dog barks\"\n",
        "\n",
        "class Labrador(Dog):\n",
        "    def fetch(self):\n",
        "        return \"Labrador fetches\"\n",
        "\n",
        "\n",
        "labrador_instance = Labrador()\n",
        "print(labrador_instance.speak())\n",
        "print(labrador_instance.bark())\n",
        "print(labrador_instance.fetch())\n",
        "\n"
      ],
      "metadata": {
        "colab": {
          "base_uri": "https://localhost:8080/"
        },
        "id": "yeXlKJNBPdQv",
        "outputId": "b1d6530c-6d15-4c2d-e7bb-d04eae4c3f70"
      },
      "execution_count": 36,
      "outputs": [
        {
          "output_type": "stream",
          "name": "stdout",
          "text": [
            " Using single inheritance \n",
            "\n",
            "Animal speaks\n",
            "Dog barks\n",
            "\n",
            "\n",
            "multiple inheritance \n",
            "\n",
            "Bird chirps\n",
            "Dog barks\n",
            "DogBird can perform multiple actions\n",
            "\n",
            "\n",
            "Animal speaks\n",
            "Dog barks\n",
            "Labrador fetches\n"
          ]
        }
      ]
    }
  ]
}