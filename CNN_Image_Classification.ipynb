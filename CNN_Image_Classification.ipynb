{
  "nbformat": 4,
  "nbformat_minor": 0,
  "metadata": {
    "colab": {
      "provenance": [],
      "authorship_tag": "ABX9TyPN7A1jEA8POHJJzGwwFRdb",
      "include_colab_link": true
    },
    "kernelspec": {
      "name": "python3",
      "display_name": "Python 3"
    },
    "language_info": {
      "name": "python"
    }
  },
  "cells": [
    {
      "cell_type": "markdown",
      "metadata": {
        "id": "view-in-github",
        "colab_type": "text"
      },
      "source": [
        "<a href=\"https://colab.research.google.com/github/Gizelle-16/Gitel_Scifor/blob/main/CNN_Image_Classification.ipynb\" target=\"_parent\"><img src=\"https://colab.research.google.com/assets/colab-badge.svg\" alt=\"Open In Colab\"/></a>"
      ]
    },
    {
      "cell_type": "markdown",
      "source": [
        "Implimenting a Convolutional Neural Network (CNN) using TensorFlow and Keras for the CIFAR-10 dataset"
      ],
      "metadata": {
        "id": "icc_YZ-yTB61"
      }
    },
    {
      "cell_type": "code",
      "execution_count": 14,
      "metadata": {
        "id": "7YoKTvqHNO1J"
      },
      "outputs": [],
      "source": [
        "import tensorflow as tf\n",
        "import cv2\n",
        "import numpy as np\n"
      ]
    },
    {
      "cell_type": "code",
      "source": [
        "from tensorflow.keras import layers, models\n",
        "from tensorflow.keras.datasets import cifar10\n",
        "from tensorflow.keras.utils import to_categorical"
      ],
      "metadata": {
        "id": "ISMlD-LmSlZv"
      },
      "execution_count": 3,
      "outputs": []
    },
    {
      "cell_type": "code",
      "source": [
        "# Load and preprocess the CIFAR-10 dataset\n",
        "(train_images, train_labels), (test_images, test_labels) = cifar10.load_data()\n",
        "train_images = train_images.astype('float32') / 255.0\n",
        "test_images = test_images.astype('float32') / 255.0\n",
        "train_labels = to_categorical(train_labels, 10)\n",
        "test_labels = to_categorical(test_labels, 10)\n"
      ],
      "metadata": {
        "id": "q5fWK2VdSqLQ"
      },
      "execution_count": 6,
      "outputs": []
    },
    {
      "cell_type": "code",
      "source": [
        "# Build the convolutional neural network (CNN) model\n",
        "model = models.Sequential()\n",
        "model.add(layers.Conv2D(32, (3, 3), activation='relu', input_shape=(32, 32, 3)))\n",
        "model.add(layers.MaxPooling2D((2, 2)))\n",
        "model.add(layers.Conv2D(64, (3, 3), activation='relu'))\n",
        "model.add(layers.MaxPooling2D((2, 2)))\n",
        "model.add(layers.Conv2D(64, (3, 3), activation='relu'))\n",
        "model.add(layers.Flatten())\n",
        "model.add(layers.Dense(64, activation='relu'))\n",
        "model.add(layers.Dense(10, activation='softmax'))"
      ],
      "metadata": {
        "id": "z-0J8LDcSwF2"
      },
      "execution_count": 7,
      "outputs": []
    },
    {
      "cell_type": "code",
      "source": [
        "# Compiling the model the model\n",
        "model.compile(optimizer='adam',\n",
        "              loss='categorical_crossentropy',\n",
        "              metrics=['accuracy'])\n",
        "\n"
      ],
      "metadata": {
        "id": "BSwgc0tTSiin"
      },
      "execution_count": 8,
      "outputs": []
    },
    {
      "cell_type": "code",
      "source": [
        "# Training the model\n",
        "model.fit(train_images, train_labels, epochs=10, batch_size=64, validation_split=0.2)\n",
        "\n"
      ],
      "metadata": {
        "colab": {
          "base_uri": "https://localhost:8080/"
        },
        "id": "bjXNlTScS1Te",
        "outputId": "91c3d00d-a5be-46b0-b20b-19858bba2c5e"
      },
      "execution_count": 9,
      "outputs": [
        {
          "output_type": "stream",
          "name": "stdout",
          "text": [
            "Epoch 1/10\n",
            "625/625 [==============================] - 51s 80ms/step - loss: 1.6391 - accuracy: 0.4010 - val_loss: 1.4665 - val_accuracy: 0.4689\n",
            "Epoch 2/10\n",
            "625/625 [==============================] - 47s 75ms/step - loss: 1.2833 - accuracy: 0.5383 - val_loss: 1.2106 - val_accuracy: 0.5690\n",
            "Epoch 3/10\n",
            "625/625 [==============================] - 48s 77ms/step - loss: 1.1329 - accuracy: 0.6009 - val_loss: 1.0909 - val_accuracy: 0.6212\n",
            "Epoch 4/10\n",
            "625/625 [==============================] - 46s 74ms/step - loss: 1.0286 - accuracy: 0.6363 - val_loss: 1.0564 - val_accuracy: 0.6257\n",
            "Epoch 5/10\n",
            "625/625 [==============================] - 49s 78ms/step - loss: 0.9453 - accuracy: 0.6680 - val_loss: 0.9934 - val_accuracy: 0.6561\n",
            "Epoch 6/10\n",
            "625/625 [==============================] - 47s 75ms/step - loss: 0.8798 - accuracy: 0.6941 - val_loss: 0.9851 - val_accuracy: 0.6537\n",
            "Epoch 7/10\n",
            "625/625 [==============================] - 49s 79ms/step - loss: 0.8269 - accuracy: 0.7132 - val_loss: 0.9313 - val_accuracy: 0.6804\n",
            "Epoch 8/10\n",
            "625/625 [==============================] - 48s 77ms/step - loss: 0.7705 - accuracy: 0.7310 - val_loss: 0.8901 - val_accuracy: 0.6948\n",
            "Epoch 9/10\n",
            "625/625 [==============================] - 48s 77ms/step - loss: 0.7248 - accuracy: 0.7471 - val_loss: 0.8941 - val_accuracy: 0.6994\n",
            "Epoch 10/10\n",
            "625/625 [==============================] - 46s 73ms/step - loss: 0.6842 - accuracy: 0.7608 - val_loss: 0.9285 - val_accuracy: 0.6919\n",
            "313/313 [==============================] - 4s 14ms/step - loss: 0.9335 - accuracy: 0.6890\n",
            "Test accuracy: 0.6890000104904175\n"
          ]
        }
      ]
    },
    {
      "cell_type": "code",
      "source": [
        "# Evaluate the model on the test set\n",
        "test_loss, test_acc = model.evaluate(test_images, test_labels)\n",
        "print(f'Test accuracy: {test_acc}')\n"
      ],
      "metadata": {
        "colab": {
          "base_uri": "https://localhost:8080/"
        },
        "id": "0PAOmCWiS7s8",
        "outputId": "33155ae6-47bb-4cae-c0f6-03625cd207c5"
      },
      "execution_count": 10,
      "outputs": [
        {
          "output_type": "stream",
          "name": "stdout",
          "text": [
            "313/313 [==============================] - 4s 11ms/step - loss: 0.9335 - accuracy: 0.6890\n",
            "Test accuracy: 0.6890000104904175\n"
          ]
        }
      ]
    }
  ]
}