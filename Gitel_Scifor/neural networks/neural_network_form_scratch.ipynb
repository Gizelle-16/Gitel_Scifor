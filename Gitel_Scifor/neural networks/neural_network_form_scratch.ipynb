{
  "nbformat": 4,
  "nbformat_minor": 0,
  "metadata": {
    "colab": {
      "provenance": [],
      "authorship_tag": "ABX9TyO2nMaH26HcjkskeeGASmwl",
      "include_colab_link": true
    },
    "kernelspec": {
      "name": "python3",
      "display_name": "Python 3"
    },
    "language_info": {
      "name": "python"
    }
  },
  "cells": [
    {
      "cell_type": "markdown",
      "metadata": {
        "id": "view-in-github",
        "colab_type": "text"
      },
      "source": [
        "<a href=\"https://colab.research.google.com/github/Gizelle-16/Gitel_Scifor/blob/main/Gitel_Scifor/neural%20networks/neural_network_form_scratch.ipynb\" target=\"_parent\"><img src=\"https://colab.research.google.com/assets/colab-badge.svg\" alt=\"Open In Colab\"/></a>"
      ]
    },
    {
      "cell_type": "code",
      "execution_count": null,
      "metadata": {
        "id": "HeS8eZRWviZv"
      },
      "outputs": [],
      "source": [
        "import numpy as np\n",
        "import matplotlib.pyplot as plt"
      ]
    },
    {
      "cell_type": "markdown",
      "source": [
        "initializing weights and bias"
      ],
      "metadata": {
        "id": "1cAGvb71we_G"
      }
    },
    {
      "cell_type": "code",
      "source": [
        "def init_params(layer_dims):\n",
        "    np.random.seed(3)\n",
        "    params = {}\n",
        "    L = len(layer_dims)\n",
        "\n",
        "    for l in range(1, L):\n",
        "        params['W'+str(l)] = np.random.randn(layer_dims[l], layer_dims[l-1])*0.01\n",
        "        params['b'+str(l)] = np.zeros((layer_dims[l], 1))\n",
        "\n",
        "    return params"
      ],
      "metadata": {
        "id": "uMNk0UyUv1Yx"
      },
      "execution_count": null,
      "outputs": []
    },
    {
      "cell_type": "markdown",
      "source": [
        "sigmoid function"
      ],
      "metadata": {
        "id": "fRGbyWIvwhoN"
      }
    },
    {
      "cell_type": "code",
      "source": [
        "# Z (linear hypothesis) - Z = W*X + b ,\n",
        "# W - weight matrix, b- bias vector, X- Input\n",
        "\n",
        "def sigmoid(Z):\n",
        "  A = 1/(1+np.exp(np.dot(-1,Z)))\n",
        "  cache = Z\n",
        "  return A, cache\n",
        "\n",
        "\n"
      ],
      "metadata": {
        "id": "f-sdZDfOv56g"
      },
      "execution_count": null,
      "outputs": []
    },
    {
      "cell_type": "markdown",
      "source": [
        "forward propagation"
      ],
      "metadata": {
        "id": "bNqvR2wSwj0H"
      }
    },
    {
      "cell_type": "code",
      "source": [
        "def forward_prop(X, params):\n",
        "\n",
        "    A = X # input to first layer i.e. training data\n",
        "    caches = []\n",
        "    L = len(params)//2\n",
        "    for l in range(1, L+1):\n",
        "        A_prev = A\n",
        "\n",
        "        # Linear Hypothesis\n",
        "        Z = np.dot(params['W'+str(l)], A_prev) + params['b'+str(l)]\n",
        "\n",
        "        # Storing the linear cache\n",
        "        linear_cache = (A_prev, params['W'+str(l)], params['b'+str(l)])\n",
        "\n",
        "        # Applying sigmoid on linear hypothesis\n",
        "        A, activation_cache = sigmoid(Z)\n",
        "\n",
        "         # storing the both linear and activation cache\n",
        "        cache = (linear_cache, activation_cache)\n",
        "        caches.append(cache)\n",
        "\n",
        "    return A, caches"
      ],
      "metadata": {
        "id": "8t_ZoDD7v9i0"
      },
      "execution_count": null,
      "outputs": []
    },
    {
      "cell_type": "markdown",
      "source": [
        "cost function"
      ],
      "metadata": {
        "id": "KlOFaQI3w0HL"
      }
    },
    {
      "cell_type": "code",
      "source": [
        "def cost_function(A, Y):\n",
        "    m = Y.shape[1]\n",
        "\n",
        "    cost = (-1/m)*(np.dot(np.log(A), Y.T) + np.dot(log(1-A), 1-Y.T))\n",
        "\n",
        "    return cost"
      ],
      "metadata": {
        "id": "P2ACFEhsw1Lv"
      },
      "execution_count": null,
      "outputs": []
    },
    {
      "cell_type": "markdown",
      "source": [
        "back propagation for single layer"
      ],
      "metadata": {
        "id": "dF1dXq84xDko"
      }
    },
    {
      "cell_type": "code",
      "source": [
        "def one_layer_backward(dA, cache):\n",
        "    linear_cache, activation_cache = cache\n",
        "\n",
        "    Z = activation_cache\n",
        "    dZ = dA*sigmoid(Z)*(1-sigmoid(Z)) # The derivative of the sigmoid function\n",
        "\n",
        "    A_prev, W, b = linear_cache\n",
        "    m = A_prev.shape[1]\n",
        "\n",
        "    dW = (1/m)*np.dot(dZ, A_prev.T)\n",
        "    db = (1/m)*np.sum(dZ, axis=1, keepdims=True)\n",
        "    dA_prev = np.dot(W.T, dZ)\n",
        "\n",
        "    return dA_prev, dW, db"
      ],
      "metadata": {
        "id": "4r7_RTpFw1pR"
      },
      "execution_count": null,
      "outputs": []
    },
    {
      "cell_type": "markdown",
      "source": [
        "back propagation for entire netowrk"
      ],
      "metadata": {
        "id": "AzgVAruHxF7B"
      }
    },
    {
      "cell_type": "code",
      "source": [
        "def backprop(AL, Y, caches):\n",
        "    grads = {}\n",
        "    L = len(caches)\n",
        "    m = AL.shape[1]\n",
        "    Y = Y.reshape(AL.shape)\n",
        "\n",
        "    dAL = -(np.divide(Y, AL) - np.divide(1-Y, 1-AL))\n",
        "\n",
        "    current_cache = caches[L-1]\n",
        "    grads['dA'+str(L-1)], grads['dW'+str(L-1)], grads['db'+str(L-1)] = one_layer_backward(dAL, current_cache)\n",
        "\n",
        "    for l in reversed(range(L-1)):\n",
        "\n",
        "        current_cache = caches[l]\n",
        "        dA_prev_temp, dW_temp, db_temp = one_layer_backward(grads[\"dA\" + str(l+1)], current_cache)\n",
        "        grads[\"dA\" + str(l)] = dA_prev_temp\n",
        "        grads[\"dW\" + str(l + 1)] = dW_temp\n",
        "        grads[\"db\" + str(l + 1)] = db_temp\n",
        "\n",
        "    return grads"
      ],
      "metadata": {
        "id": "SEWavllfxAlX"
      },
      "execution_count": null,
      "outputs": []
    },
    {
      "cell_type": "markdown",
      "source": [
        "update parameters"
      ],
      "metadata": {
        "id": "clzRwEX_xhHa"
      }
    },
    {
      "cell_type": "code",
      "source": [
        "def update_parameters(parameters, grads, learning_rate):\n",
        "    L = len(parameters) // 2\n",
        "\n",
        "    for l in range(L):\n",
        "        parameters['W'+str(l+1)] = parameters['W'+str(l+1)] -learning_rate*grads['W'+str(l+1)]\n",
        "        parameters['b'+str(l+1)] = parameters['b'+str(l+1)] -  learning_rate*grads['b'+str(l+1)]\n",
        "\n",
        "    return parameters"
      ],
      "metadata": {
        "id": "ZDMc0izjxcgh"
      },
      "execution_count": null,
      "outputs": []
    },
    {
      "cell_type": "markdown",
      "source": [
        "training network"
      ],
      "metadata": {
        "id": "26tAh4vHxmM9"
      }
    },
    {
      "cell_type": "code",
      "source": [
        "def train(X, Y, layer_dims, epochs, lr):\n",
        "    params = init_params(layer_dims)\n",
        "    cost_history = []\n",
        "\n",
        "    for i in range(epochs):\n",
        "        Y_hat, caches = forward_prop(X, params)\n",
        "        cost = cost_function(Y_hat, Y)\n",
        "        cost_history.append(cost)\n",
        "        grads = backprop(Y_hat, Y, caches)\n",
        "\n",
        "        params = update_parameters(params, grads, lr)\n",
        "\n",
        "\n",
        "    return params, cost_history"
      ],
      "metadata": {
        "id": "1eO7reOGxpr4"
      },
      "execution_count": null,
      "outputs": []
    }
  ]
}