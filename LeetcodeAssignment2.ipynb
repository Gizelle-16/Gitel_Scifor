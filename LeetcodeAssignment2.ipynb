{
  "nbformat": 4,
  "nbformat_minor": 0,
  "metadata": {
    "colab": {
      "provenance": [],
      "authorship_tag": "ABX9TyP6adog1Diuwpp1GAWGrWhT",
      "include_colab_link": true
    },
    "kernelspec": {
      "name": "python3",
      "display_name": "Python 3"
    },
    "language_info": {
      "name": "python"
    }
  },
  "cells": [
    {
      "cell_type": "markdown",
      "metadata": {
        "id": "view-in-github",
        "colab_type": "text"
      },
      "source": [
        "<a href=\"https://colab.research.google.com/github/Gizelle-16/Gitel_Scifor/blob/main/LeetcodeAssignment2.ipynb\" target=\"_parent\"><img src=\"https://colab.research.google.com/assets/colab-badge.svg\" alt=\"Open In Colab\"/></a>"
      ]
    },
    {
      "cell_type": "markdown",
      "source": [
        "Q1: Merge Strings Alternately"
      ],
      "metadata": {
        "id": "XCGpLkSOyFkh"
      }
    },
    {
      "cell_type": "code",
      "source": [
        "class Solution(object):\n",
        "    def mergeAlternately(self, word1, word2):\n",
        "        merged = \"\"\n",
        "        lenn = min(len(word1), len(word2))\n",
        "        k = 0\n",
        "        for i in range(0, lenn):\n",
        "            merged += word1[i] + word2[i]\n",
        "            k += 1\n",
        "\n",
        "        if k < len(word1):\n",
        "            for i in range(k, len(word1)):\n",
        "                merged += word1[i]\n",
        "        else:\n",
        "            for i in range(k, len(word2)):\n",
        "                merged += word2[i]\n",
        "\n",
        "        return merged\n",
        "\n",
        "obj = Solution()\n",
        "print(obj.mergeAlternately(word1=\"abcg\", word2=\"defeee\"))\n"
      ],
      "metadata": {
        "id": "xPnrYGAqyGwM"
      },
      "execution_count": null,
      "outputs": []
    },
    {
      "cell_type": "markdown",
      "source": [
        "Q2:  Find the Difference"
      ],
      "metadata": {
        "id": "OM4LzgxEyMJz"
      }
    },
    {
      "cell_type": "code",
      "source": [
        "class Solution(object):\n",
        "    def findTheDifference(self, s, t):\n",
        "        for i in range(0, len(t)):\n",
        "            count_t = t.count(t[i])\n",
        "            count_s = s.count(t[i])\n",
        "            if count_t> count_s:\n",
        "                return t[i]\n",
        "\n",
        "obj = Solution()\n",
        "print(obj.findTheDifference(s=\"gitel\", t=\"iletgg\"))\n"
      ],
      "metadata": {
        "colab": {
          "base_uri": "https://localhost:8080/"
        },
        "id": "ZQniUEwN0Jpu",
        "outputId": "d29a5f4d-a36f-475a-e87f-5cfd8a0e288a"
      },
      "execution_count": null,
      "outputs": [
        {
          "output_type": "stream",
          "name": "stdout",
          "text": [
            "g\n"
          ]
        }
      ]
    },
    {
      "cell_type": "markdown",
      "source": [
        "Q3: Valid anagram"
      ],
      "metadata": {
        "id": "PQpRi0J-4tND"
      }
    },
    {
      "cell_type": "code",
      "source": [
        "class Solution(object):\n",
        "    def isAnagram(self, s, t):\n",
        "        if len(t) != len(s):\n",
        "            return False\n",
        "        else:\n",
        "            for i in range(0, len(t)):\n",
        "                count_t = t.count(t[i])\n",
        "                count_s = s.count(t[i])\n",
        "                if count_t != count_s:\n",
        "                    return False\n",
        "            return True\n",
        "\n",
        "\n",
        "obj = Solution()\n",
        "print(obj.isAnagram(s=\"rat\", t=\"car\"))"
      ],
      "metadata": {
        "colab": {
          "base_uri": "https://localhost:8080/"
        },
        "id": "DVPo00WE4sY3",
        "outputId": "c68de811-d8fd-45b5-fa0f-9a1fac8a70c8"
      },
      "execution_count": null,
      "outputs": [
        {
          "output_type": "stream",
          "name": "stdout",
          "text": [
            "False\n"
          ]
        }
      ]
    },
    {
      "cell_type": "markdown",
      "source": [
        "Q4: Repeated substring pattern"
      ],
      "metadata": {
        "id": "B5SS11NLDWzF"
      }
    },
    {
      "cell_type": "code",
      "source": [
        " class Solution(object):\n",
        "    def repeatedSubstringPattern(self, s):\n",
        "        length = len(s)\n",
        "\n",
        "        for i in range(1, length // 2 + 1):\n",
        "\n",
        "            if length % i == 0:\n",
        "              substring = s[:i]\n",
        "              repeated_string = substring * (length // i)\n",
        "              if repeated_string == s:\n",
        "                   return True\n",
        "\n",
        "        return False\n",
        "\n",
        "\n",
        "obj = Solution()\n",
        "print(obj.repeatedSubstringPattern(\"abcabcabc\"))  # Output: True\n",
        "print(obj.repeatedSubstringPattern(\"abab\"))       # Output: True\n",
        "print(obj.repeatedSubstringPattern(\"aba\"))        # Output: False\n"
      ],
      "metadata": {
        "colab": {
          "base_uri": "https://localhost:8080/"
        },
        "id": "CakX2liLDavB",
        "outputId": "7318e216-a0b1-44e3-da05-a2495a511950"
      },
      "execution_count": null,
      "outputs": [
        {
          "output_type": "stream",
          "name": "stdout",
          "text": [
            "True\n",
            "True\n",
            "False\n"
          ]
        }
      ]
    },
    {
      "cell_type": "markdown",
      "source": [
        "Q5: Find the Index of the First Occurrence in a String\n"
      ],
      "metadata": {
        "id": "F6PgXEbbaJmc"
      }
    },
    {
      "cell_type": "code",
      "source": [
        "class Solution(object):\n",
        "    def strStr(self, haystack, needle):\n",
        "      x=haystack.find(needle)\n",
        "      return x\n",
        "\n",
        "obj= Solution()\n",
        "print(obj.strStr(haystack=\"applebanana\", needle='anas'))"
      ],
      "metadata": {
        "colab": {
          "base_uri": "https://localhost:8080/"
        },
        "id": "_qgu4R8ma9Br",
        "outputId": "23b6863e-47f7-4360-9d5a-41cc91145c7a"
      },
      "execution_count": null,
      "outputs": [
        {
          "output_type": "stream",
          "name": "stdout",
          "text": [
            "-1\n"
          ]
        }
      ]
    },
    {
      "cell_type": "markdown",
      "source": [
        "Q6: Move zeroes to the end of list"
      ],
      "metadata": {
        "id": "8c_AJd81cJ0m"
      }
    },
    {
      "cell_type": "code",
      "source": [
        "# class Solution(object):\n",
        "#     def moveZeroes(self, nums):\n",
        "#       count=0\n",
        "#       for i in nums:\n",
        "#         if i!=0:\n",
        "#           pass\n",
        "#         else:\n",
        "#           count = count+1\n",
        "#           nums.remove(i)\n",
        "\n",
        "\n",
        "#       for j in range(0, count):\n",
        "#         nums.append(0)\n",
        "#       return nums\n",
        "\n",
        "# obj=Solution()\n",
        "# print(obj.moveZeroes([0,0,1]))\n",
        "\n",
        "#was facing error in the code for half of the test cases when there were 2 0s together,\n",
        "#because i was using remove while iteration, it changes the index values\n",
        "\n",
        "class Solution(object):\n",
        "    def moveZeroes(self, nums):\n",
        "        count = 0\n",
        "        i = 0\n",
        "\n",
        "        while i < len(nums):\n",
        "            if nums[i] == 0:\n",
        "                nums.pop(i)\n",
        "                count += 1\n",
        "            else:\n",
        "                i+=1\n",
        "\n",
        "        for _ in range(count):\n",
        "            nums.append(0)\n",
        "\n",
        "        return nums\n",
        "\n",
        "obj = Solution()\n",
        "print(obj.moveZeroes([0, 0, 1]))\n"
      ],
      "metadata": {
        "colab": {
          "base_uri": "https://localhost:8080/"
        },
        "id": "mUoOZ1x1d1Ki",
        "outputId": "00922835-56fe-4fc0-ac6c-120e5a9cf756"
      },
      "execution_count": null,
      "outputs": [
        {
          "output_type": "stream",
          "name": "stdout",
          "text": [
            "[1, 0, 0]\n"
          ]
        }
      ]
    },
    {
      "cell_type": "markdown",
      "source": [
        "Q7: Plus one"
      ],
      "metadata": {
        "id": "FEZf5q0ekfuJ"
      }
    },
    {
      "cell_type": "code",
      "source": [
        "class Solution(object):\n",
        "    def plusOne(self, digits):\n",
        "        n = len(digits)\n",
        "\n",
        "        for i in range(n - 1, -1, -1):\n",
        "            if digits[i] < 9:\n",
        "                digits[i] += 1\n",
        "                return digits\n",
        "            else:\n",
        "                digits[i] = 0\n",
        "\n",
        "        digits.insert(0, 1)\n",
        "        return digits\n",
        "\n",
        "obj = Solution()\n",
        "result = obj.plusOne([9, 8,2])\n",
        "print(result)\n"
      ],
      "metadata": {
        "colab": {
          "base_uri": "https://localhost:8080/"
        },
        "id": "F4273LAsmGsa",
        "outputId": "faf657b3-f682-44e1-d026-2044d942cb8a"
      },
      "execution_count": null,
      "outputs": [
        {
          "output_type": "stream",
          "name": "stdout",
          "text": [
            "[9, 8, 3]\n"
          ]
        }
      ]
    },
    {
      "cell_type": "markdown",
      "source": [
        "Q8: Sign of the Product of an Array\n"
      ],
      "metadata": {
        "id": "yNk5dguZq5Kd"
      }
    },
    {
      "cell_type": "code",
      "source": [
        "class Solution(object):\n",
        "    def arraySign(self, nums):\n",
        "        count=0\n",
        "        for i in nums:\n",
        "            if i==0:\n",
        "                return 0\n",
        "            elif i<0:\n",
        "                count+=1\n",
        "        if count%2==0:\n",
        "            return 1\n",
        "        else:\n",
        "            return -1\n"
      ],
      "metadata": {
        "id": "Y-V7u8PCq5_K"
      },
      "execution_count": null,
      "outputs": []
    },
    {
      "cell_type": "markdown",
      "source": [
        "Q9: Arithmetic progression"
      ],
      "metadata": {
        "id": "enmXHnoQr3EJ"
      }
    },
    {
      "cell_type": "code",
      "source": [
        "class Solution(object):\n",
        "    def canMakeArithmeticProgression(self, arr):\n",
        "        arr.sort()\n",
        "        for i in range(2, len(arr)):\n",
        "            if 2 * arr[i - 1] != arr[i - 2] + arr[i]:\n",
        "                return False\n",
        "        return True\n",
        "\n",
        "obj = Solution()\n",
        "print(obj.canMakeArithmeticProgression([4, 5, 6]))"
      ],
      "metadata": {
        "colab": {
          "base_uri": "https://localhost:8080/"
        },
        "id": "Tgq18KJJs_VO",
        "outputId": "5871efbd-8148-49be-a384-3054e3b1db56"
      },
      "execution_count": null,
      "outputs": [
        {
          "output_type": "stream",
          "name": "stdout",
          "text": [
            "True\n"
          ]
        }
      ]
    },
    {
      "cell_type": "markdown",
      "source": [
        "Q10: monotonic lists"
      ],
      "metadata": {
        "id": "4j8nMPJwJsYb"
      }
    },
    {
      "cell_type": "code",
      "source": [
        "class Solution(object):\n",
        "    def isMonotonic(self, nums):\n",
        "        increasing = decreasing = True\n",
        "\n",
        "        for i in range(1, len(nums)):\n",
        "            if nums[i] > nums[i - 1]:\n",
        "                decreasing = False\n",
        "            elif nums[i] < nums[i - 1]:\n",
        "                increasing = False\n",
        "\n",
        "        return increasing or decreasing\n"
      ],
      "metadata": {
        "id": "e8Nvs8L0JxMK"
      },
      "execution_count": null,
      "outputs": []
    },
    {
      "cell_type": "markdown",
      "source": [
        "Q11: Integer to roman"
      ],
      "metadata": {
        "id": "7SGPSfcFJyJU"
      }
    },
    {
      "cell_type": "code",
      "source": [
        "class Solution(object):\n",
        "    def romanToInt(self, s):\n",
        "        roman_mapping = {\n",
        "            'I': 1,\n",
        "            'V': 5,\n",
        "            'X': 10,\n",
        "            'L': 50,\n",
        "            'C': 100,\n",
        "            'D': 500,\n",
        "            'M': 1000\n",
        "        }\n",
        "\n",
        "        result = 0\n",
        "        prev_value = 0\n",
        "\n",
        "        for symbol in s[::-1]:  # Iterate from right to left\n",
        "            current_value = roman_mapping[symbol]\n",
        "\n",
        "            if current_value >= prev_value:\n",
        "                result += current_value\n",
        "            else:\n",
        "                result -= current_value\n",
        "\n",
        "            prev_value = current_value\n",
        "\n",
        "        return result\n",
        "\n",
        "obj = Solution()\n",
        "roman_numeral = \"IX\"\n",
        "result = obj.romanToInt(roman_numeral)\n",
        "print(result)\n"
      ],
      "metadata": {
        "id": "1pQmRFhkLPQA",
        "outputId": "80db5be2-5ed5-47ce-dd3b-9eec71f8bac5",
        "colab": {
          "base_uri": "https://localhost:8080/"
        }
      },
      "execution_count": 16,
      "outputs": [
        {
          "output_type": "stream",
          "name": "stdout",
          "text": [
            "9\n"
          ]
        }
      ]
    },
    {
      "cell_type": "markdown",
      "source": [
        "Q12: #built-in funcations: to lowercase"
      ],
      "metadata": {
        "id": "3U_ly-lkpr3o"
      }
    },
    {
      "cell_type": "code",
      "source": [
        "class Solution(object):\n",
        "    def toLowerCase(self, s):\n",
        "\n",
        "     result = \"\"\n",
        "     for char in s:\n",
        "        if 'A' <= char <= 'Z':\n",
        "            result += chr(ord(char) + (ord('a') - ord('A')))\n",
        "        else:\n",
        "            result += char\n",
        "     return result\n",
        "obj = Solution()\n",
        "print(obj.toLowerCase('Apple oF my Eye') )\n",
        "\n",
        "\n",
        "#solution 2:\n",
        "def toLowerCase(s):\n",
        "    return s.lower()\n",
        "\n",
        "# Example usage\n",
        "input_string = \"Hello World\"\n",
        "result = toLowerCase(input_string)\n",
        "print(result)\n",
        ""
      ],
      "metadata": {
        "id": "hNLt7gUaprce",
        "outputId": "73b3772e-baf4-434f-d14d-330e0ae7e1dd",
        "colab": {
          "base_uri": "https://localhost:8080/"
        }
      },
      "execution_count": 1,
      "outputs": [
        {
          "output_type": "stream",
          "name": "stdout",
          "text": [
            "apple of my eye\n",
            "hello world\n"
          ]
        }
      ]
    },
    {
      "cell_type": "markdown",
      "source": [
        "Q13: Length o last word"
      ],
      "metadata": {
        "id": "LIppI0EQpscq"
      }
    },
    {
      "cell_type": "code",
      "source": [
        "class Solution(object):\n",
        "    def lengthOfLastWord(self, s):\n",
        "        word = s.split()[-1]\n",
        "        return len(word)\n",
        "obj = Solution()\n",
        "print(obj.lengthOfLastWord('this is apldkejtjt '))"
      ],
      "metadata": {
        "id": "zMQA4GuHfsfH",
        "outputId": "769a3ead-ff70-4707-d645-f63c996aa6d6",
        "colab": {
          "base_uri": "https://localhost:8080/"
        }
      },
      "execution_count": 11,
      "outputs": [
        {
          "output_type": "stream",
          "name": "stdout",
          "text": [
            "10\n"
          ]
        }
      ]
    },
    {
      "cell_type": "markdown",
      "source": [
        "Q14: Baseball game"
      ],
      "metadata": {
        "id": "Qb-1igOm083N"
      }
    },
    {
      "cell_type": "code",
      "source": [
        "class Solution(object):\n",
        "    def calPoints(self, ops):\n",
        "        result = []\n",
        "\n",
        "        for op in ops:\n",
        "            if op.isdigit() or (op[0] == '-' and op[1:].isdigit()):\n",
        "                result.append(int(op))\n",
        "            elif op == 'C':\n",
        "                result.pop()\n",
        "            elif op == 'D':\n",
        "                result.append(result[-1] * 2)\n",
        "            elif op == '+':\n",
        "                result.append(result[-1] + result[-2])\n",
        "\n",
        "        return sum(result)\n",
        "\n",
        "obj = Solution()\n",
        "print(obj.calPoints([\"5\", \"2\", \"C\", \"D\", \"+\"]))\n"
      ],
      "metadata": {
        "id": "C20VznF88eHL",
        "outputId": "5bce9c56-0772-448a-f8b7-4a961b1e21fc",
        "colab": {
          "base_uri": "https://localhost:8080/"
        }
      },
      "execution_count": 2,
      "outputs": [
        {
          "output_type": "stream",
          "name": "stdout",
          "text": [
            "30\n"
          ]
        }
      ]
    },
    {
      "cell_type": "markdown",
      "source": [
        "Q15: Robot return to origin"
      ],
      "metadata": {
        "id": "wxT_rUwspOQj"
      }
    },
    {
      "cell_type": "code",
      "source": [
        "class Solution(object):\n",
        "    def judgeCircle(self, moves):\n",
        "        count_R = 0\n",
        "        count_L = 0\n",
        "        count_U = 0\n",
        "        count_D = 0\n",
        "\n",
        "        for move in moves:\n",
        "            if move == 'R':\n",
        "                count_R += 1\n",
        "            elif move == 'L':\n",
        "                count_L += 1\n",
        "            elif move == 'U':\n",
        "                count_U += 1\n",
        "            elif move == 'D':\n",
        "                count_D += 1\n",
        "\n",
        "        return count_R == count_L and count_U == count_D\n",
        ""
      ],
      "metadata": {
        "id": "IxBHYkxNpiOC"
      },
      "execution_count": 3,
      "outputs": []
    },
    {
      "cell_type": "markdown",
      "source": [
        "Q16: Tic Tac Toe"
      ],
      "metadata": {
        "id": "sxxP3yznrMua"
      }
    },
    {
      "cell_type": "code",
      "source": [
        "class Solution(object):\n",
        "    def tictactoe(self, moves):\n",
        "        \"\"\"\n",
        "        :type moves: List[List[int]]\n",
        "        :rtype: str\n",
        "        \"\"\"\n",
        "        grid = [[' ' for _ in range(3)] for _ in range(3)]\n",
        "\n",
        "        def check_winner(player):\n",
        "            # Check rows and columns\n",
        "            for i in range(3):\n",
        "                if all(grid[i][j] == player for j in range(3)) or all(grid[j][i] == player for j in range(3)):\n",
        "                    return True\n",
        "\n",
        "            # Check diagonals\n",
        "            if all(grid[i][i] == player for i in range(3)) or all(grid[i][2 - i] == player for i in range(3)):\n",
        "                return True\n",
        "\n",
        "            return False\n",
        "\n",
        "        for i, (row, col) in enumerate(moves):\n",
        "            player = 'A' if i % 2 == 0 else 'B'\n",
        "            grid[row][col] = player\n",
        "\n",
        "            if check_winner(player):\n",
        "                return player\n",
        "\n",
        "        return \"Draw\" if len(moves) == 9 else \"Pending\""
      ],
      "metadata": {
        "id": "4-2FtpndrMXE"
      },
      "execution_count": 4,
      "outputs": []
    },
    {
      "cell_type": "markdown",
      "source": [
        "Q17: Robot in a circle"
      ],
      "metadata": {
        "id": "RsiQOmk5xN84"
      }
    },
    {
      "cell_type": "code",
      "source": [],
      "metadata": {
        "id": "HN1yYKwVyWrl"
      },
      "execution_count": null,
      "outputs": []
    },
    {
      "cell_type": "markdown",
      "source": [
        "Q18: Richest Customer Wealth"
      ],
      "metadata": {
        "id": "-9xtD6E00pja"
      }
    },
    {
      "cell_type": "code",
      "source": [
        "class Solution(object):\n",
        "    def maximumWealth(self, accounts):\n",
        "        result = []\n",
        "\n",
        "        for customer in accounts:\n",
        "            wealth = sum(customer)\n",
        "            result.append(wealth)\n",
        "\n",
        "        return max(result)\n",
        "\n",
        "obj = Solution()\n",
        "print(obj.maximumWealth([[3, 4, 5], [2, 3], [45, 2]]))"
      ],
      "metadata": {
        "id": "57cXyRZi0qGx",
        "outputId": "d59f3812-1829-4045-bed5-b5a7ed6e2fdc",
        "colab": {
          "base_uri": "https://localhost:8080/"
        }
      },
      "execution_count": 7,
      "outputs": [
        {
          "output_type": "stream",
          "name": "stdout",
          "text": [
            "47\n"
          ]
        }
      ]
    },
    {
      "cell_type": "markdown",
      "source": [
        "Q19: matrix diagonals\n"
      ],
      "metadata": {
        "id": "iJcRVC4818qW"
      }
    },
    {
      "cell_type": "code",
      "source": [
        "class Solution(object):\n",
        "    def diagonalSum(self, mat):\n",
        "        rows = len(mat)\n",
        "        cols = len(mat[0]) if mat else 0\n",
        "\n",
        "        s1 = sum(mat[i][i] for i in range(rows))\n",
        "        s2 = sum(mat[i][cols - 1 - i] for i in range(rows))\n",
        "\n",
        "        total_sum = s1 + s2\n",
        "\n",
        "        if rows % 2 == 1:\n",
        "            middle_index = rows // 2\n",
        "            total_sum -= mat[middle_index][middle_index]\n",
        "\n",
        "        return total_sum\n",
        "\n",
        "obj = Solution()\n",
        "matrix = [\n",
        "    [1, 2, 3],\n",
        "    [4, 5, 6],\n",
        "    [7, 8, 9]\n",
        "]\n",
        "result = obj.diagonalSum(matrix)\n",
        "print(result)"
      ],
      "metadata": {
        "id": "pt7l1gpR19Im",
        "outputId": "a26f536e-4e9e-455c-bf01-b028de528e4c",
        "colab": {
          "base_uri": "https://localhost:8080/"
        }
      },
      "execution_count": 8,
      "outputs": [
        {
          "output_type": "stream",
          "name": "stdout",
          "text": [
            "25\n"
          ]
        }
      ]
    },
    {
      "cell_type": "markdown",
      "source": [
        "Q20: Diagonal matrix"
      ],
      "metadata": {
        "id": "P5IPH3gt9w6o"
      }
    },
    {
      "cell_type": "code",
      "source": [
        "def spiral_order(matrix):\n",
        "    result = []\n",
        "\n",
        "    while matrix:\n",
        "        # top row\n",
        "        result.extend(matrix.pop(0))\n",
        "\n",
        "        # right column\n",
        "        if matrix and matrix[0]:\n",
        "            for row in matrix:\n",
        "                result.append(row.pop())\n",
        "        #bottom row\n",
        "        if matrix:\n",
        "            result.extend(matrix.pop()[::-1])\n",
        "\n",
        "      #left column\n",
        "        if matrix and matrix[0]:\n",
        "            for row in matrix[::-1]:\n",
        "                result.append(row.pop(0))\n",
        "\n",
        "    return result\n",
        "\n",
        "matrix = [\n",
        "    [1, 2, 3],\n",
        "    [4, 5, 6],\n",
        "    [7, 8, 9]\n",
        "]\n",
        "\n",
        "result = spiral_order(matrix)\n",
        "print(result)\n"
      ],
      "metadata": {
        "id": "mcqhgyj68nm3",
        "outputId": "8e815df4-965b-471e-a016-12a78b34084d",
        "colab": {
          "base_uri": "https://localhost:8080/"
        }
      },
      "execution_count": 9,
      "outputs": [
        {
          "output_type": "stream",
          "name": "stdout",
          "text": [
            "[1, 2, 3, 6, 9, 8, 7, 4, 5]\n"
          ]
        }
      ]
    },
    {
      "cell_type": "markdown",
      "source": [
        "Q21: count number of odds"
      ],
      "metadata": {
        "id": "F32AGid_91UU"
      }
    },
    {
      "cell_type": "code",
      "source": [
        "class Solution(object):\n",
        "    def countOdds(self, low, high):\n",
        "        diff = high - low + 1\n",
        "        if diff % 2 == 0:\n",
        "            return diff // 2\n",
        "        elif diff % 2 != 0:\n",
        "            if high % 2 != 0 or low % 2 != 0:\n",
        "                return (diff // 2) + 1\n",
        "            else:\n",
        "                return diff // 2\n",
        "\n"
      ],
      "metadata": {
        "id": "7v6ij2V-90-m"
      },
      "execution_count": 10,
      "outputs": []
    },
    {
      "cell_type": "markdown",
      "source": [
        "\n",
        "Q22: Average salary excluding minimum and maximum\n",
        "---\n",
        "\n"
      ],
      "metadata": {
        "id": "LieRmAQB9wCu"
      }
    },
    {
      "cell_type": "code",
      "source": [
        "class Solution(object):\n",
        "    def average(self, salary):\n",
        "        sum=0\n",
        "        salary.remove(min(salary))\n",
        "        salary.remove(max(salary))\n",
        "        for i  in salary:\n",
        "            sum += i\n",
        "            avg = sum/len(salary)\n",
        "        return round(avg,5)\n",
        "\n",
        "        ##this is giving error in large numbers, does not round off correctly, dont know what to do"
      ],
      "metadata": {
        "id": "qzsEFYKCDLn3"
      },
      "execution_count": 11,
      "outputs": []
    },
    {
      "cell_type": "markdown",
      "source": [
        "Q23: Lemonade change"
      ],
      "metadata": {
        "id": "J7Dwhm1AEd9-"
      }
    },
    {
      "cell_type": "code",
      "source": [
        "class Solution(object):\n",
        "    def lemonadeChange(self, bills):\n",
        "        count_5 = 0\n",
        "        count_10 = 0\n",
        "\n",
        "        for bill in bills:\n",
        "            if bill == 5:\n",
        "                count_5 += 1\n",
        "            elif bill == 10:\n",
        "                count_10 += 1\n",
        "                count_5 -= 1\n",
        "            elif bill == 20:\n",
        "                if count_10 > 0:\n",
        "                    count_10 -= 1\n",
        "                    count_5 -= 1\n",
        "                else:\n",
        "                    count_5 -= 3\n",
        "\n",
        "            if count_5 < 0:\n",
        "                return False\n",
        "\n",
        "        return True\n"
      ],
      "metadata": {
        "id": "_YVMGTBKEcSp"
      },
      "execution_count": null,
      "outputs": []
    },
    {
      "cell_type": "markdown",
      "source": [
        "Q24: Largest triangle perimeter"
      ],
      "metadata": {
        "id": "etdxKnFuE4R6"
      }
    },
    {
      "cell_type": "code",
      "source": [
        "class Solution(object):\n",
        "    def largestPerimeter(self, nums):\n",
        "        nums.sort(reverse=True)\n",
        "\n",
        "        for i in range(len(nums) - 2):\n",
        "            a, b, c = nums[i], nums[i + 1], nums[i + 2]\n",
        "            if a < b + c:\n",
        "                return a + b + c\n",
        "\n",
        "        return 0\n",
        "\n",
        ""
      ],
      "metadata": {
        "id": "TOd65Q62FCn3"
      },
      "execution_count": null,
      "outputs": []
    },
    {
      "cell_type": "markdown",
      "source": [
        "Q25: cehck straight line"
      ],
      "metadata": {
        "id": "EWKu_PhBFP-A"
      }
    },
    {
      "cell_type": "code",
      "source": [
        "class Solution(object):\n",
        "    def checkStraightLine(self, coordinates):\n",
        "        if len(coordinates) <= 2:\n",
        "            return True\n",
        "\n",
        "        x1, y1 = coordinates[0]\n",
        "        x2, y2 = coordinates[1]\n",
        "        initial_slope = (y2 - y1) / (x2 - x1) if (x2 - x1) != 0 else float('inf')\n",
        "\n",
        "        for i in range(2, len(coordinates)):\n",
        "            xi, yi = coordinates[i]\n",
        "            slope = (yi - y1) / (xi - x1) if (xi - x1) != 0 else float('inf')\n",
        "\n",
        "            if slope != initial_slope:\n",
        "                return False\n",
        "\n",
        "        return True\n",
        "obj = Solution()\n",
        "print(obj.checkStraightLine([[1,2],[2,3],[3,4],[4,5],[5,6],[6,7]]))\n"
      ],
      "metadata": {
        "id": "3jQvzwkBG_N_",
        "outputId": "389063e6-748c-4634-8bf4-4cbdbca50659",
        "colab": {
          "base_uri": "https://localhost:8080/"
        }
      },
      "execution_count": 12,
      "outputs": [
        {
          "output_type": "stream",
          "name": "stdout",
          "text": [
            "True\n"
          ]
        }
      ]
    },
    {
      "cell_type": "markdown",
      "source": [
        "Q26: Add binary"
      ],
      "metadata": {
        "id": "gr8eyTTMH5_a"
      }
    },
    {
      "cell_type": "code",
      "source": [
        "class Solution(object):\n",
        "    def addBinary(self, a, b):\n",
        "        result = []\n",
        "        carry = 0\n",
        "\n",
        "\n",
        "        length = max(len(a), len(b))\n",
        "        a = a.zfill(length)\n",
        "        b = b.zfill(length)\n",
        "\n",
        "\n",
        "        for i in range(length - 1, -1, -1):\n",
        "            bit_sum = int(a[i]) + int(b[i]) + carry\n",
        "            result.append(str(bit_sum % 2))\n",
        "            carry = bit_sum // 2\n",
        "\n",
        "\n",
        "        if carry:\n",
        "            result.append(str(carry))\n",
        "\n",
        "        return ''.join(result[::-1])\n",
        "\n",
        "\n",
        "\n"
      ],
      "metadata": {
        "id": "Y4XV5hyFH8CG"
      },
      "execution_count": 13,
      "outputs": []
    },
    {
      "cell_type": "markdown",
      "source": [
        "Q27: multiply strings"
      ],
      "metadata": {
        "id": "i9mka3g6H9wk"
      }
    },
    {
      "cell_type": "code",
      "source": [
        "class Solution(object):\n",
        "    def multiply(self, num1, num2):\n",
        "\n",
        "        n1 = int(num1)\n",
        "        n2 = int(num2)\n",
        "        mul = str(n1*n2)\n",
        "        return mul\n",
        ""
      ],
      "metadata": {
        "id": "Fng2LduXI_fH"
      },
      "execution_count": 14,
      "outputs": []
    },
    {
      "cell_type": "markdown",
      "source": [
        "Q28: pow(x,n)"
      ],
      "metadata": {
        "id": "l0xEMuPzJCZd"
      }
    },
    {
      "cell_type": "code",
      "source": [
        "class Solution(object):\n",
        "    def myPow(self, x, n):\n",
        "        if n < 0:\n",
        "            x = 1 / x\n",
        "            n = -n\n",
        "\n",
        "        result = 1\n",
        "        current_product = x\n",
        "\n",
        "        while n > 0:\n",
        "            if n % 2 == 1:\n",
        "                result *= current_product\n",
        "            current_product *= current_product\n",
        "            n //= 2\n",
        "\n",
        "        return result\n"
      ],
      "metadata": {
        "id": "5BnCj8feJVoi"
      },
      "execution_count": 15,
      "outputs": []
    },
    {
      "cell_type": "markdown",
      "source": [],
      "metadata": {
        "id": "8khjRKZMJXKF"
      }
    }
  ]
}